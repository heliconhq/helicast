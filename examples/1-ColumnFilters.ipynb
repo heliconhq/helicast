{
 "cells": [
  {
   "cell_type": "markdown",
   "metadata": {},
   "source": [
    "# 1-Column Filters\n",
    "\n",
    "In this notebook, we'll show how we can use ``helicast`` to filter columns in a pandas\n",
    "DataFrame. Everything is implemented in the ``helicast.column_filters`` subpackage.\n",
    "\n",
    "The classes inherit from both Pydantic (for type checking and safety) and scikit-learn\n",
    "(for maximum compatibility with ML frameworks)!"
   ]
  },
  {
   "cell_type": "code",
   "execution_count": null,
   "metadata": {},
   "outputs": [],
   "source": [
    "import pandas as pd\n",
    "\n",
    "# Here are all the objects that can be used as scikit-learn transformers onto\n",
    "# pandas DataFrame! Their main job is to select/remove columns based on some rule :)\n",
    "from helicast.column_filters import (\n",
    "    AllSelector,\n",
    "    DTypeRemover,\n",
    "    DTypeSelector,\n",
    "    NameRemover,\n",
    "    NameSelector,\n",
    "    RegexRemover,\n",
    "    RegexSelector,\n",
    ")"
   ]
  },
  {
   "cell_type": "code",
   "execution_count": null,
   "metadata": {},
   "outputs": [],
   "source": [
    "def read_data() -> pd.DataFrame:\n",
    "    df = pd.read_csv(\"../data/victoria-daily-electricity.csv\")\n",
    "    df[\"school_day\"] = df[\"school_day\"].astype(\"category\")\n",
    "    df[\"holiday\"] = df[\"holiday\"].astype(\"category\")\n",
    "    df[\"date\"] = pd.to_datetime(df[\"date\"])\n",
    "    df = df.ffill()\n",
    "    df = df.convert_dtypes(dtype_backend=\"pyarrow\")\n",
    "    # df[\"date\"] = pd.DatetimeIndex(df[\"date\"])\n",
    "    return df\n",
    "\n",
    "\n",
    "df = read_data()\n",
    "display(df.dtypes)"
   ]
  },
  {
   "cell_type": "code",
   "execution_count": null,
   "metadata": {},
   "outputs": [],
   "source": [
    "# Let's select all the columns whose name startswith \"demmand\".\n",
    "# The RegEx for that is \"^demand\"\n",
    "transform = RegexSelector(patterns=\"^demand\")\n",
    "\n",
    "# Calling `fit` doesn't do anything, it's just there for API compatibility issues\n",
    "# --> fit_transform and transform are equivalent methods :)\n",
    "transform.fit_transform(df)"
   ]
  },
  {
   "cell_type": "code",
   "execution_count": null,
   "metadata": {},
   "outputs": [],
   "source": [
    "# Because the column filters are sklearn transformers, they can be visualized as such!\n",
    "display(transform)\n",
    "\n",
    "# And all the sklearn magic can happen :)\n",
    "print(transform.get_params())\n",
    "\n",
    "\n",
    "# And all the sklearn magic can happen :)\n",
    "display(transform.set_params(patterns=\"demand$\"))"
   ]
  },
  {
   "cell_type": "code",
   "execution_count": null,
   "metadata": {},
   "outputs": [],
   "source": [
    "# You can combine rules!\n",
    "# Here is an example with the bitwise and operator &\n",
    "transform = RegexSelector(patterns=\"day$\") & DTypeSelector(dtypes=\"category\")\n",
    "\n",
    "transform.fit_transform(df)"
   ]
  },
  {
   "cell_type": "code",
   "execution_count": null,
   "metadata": {},
   "outputs": [],
   "source": [
    "# You can combine rules!\n",
    "# Here is an example with the bitwise OR operator |\n",
    "transform = RegexSelector(patterns=\"day$\") | DTypeSelector(dtypes=\"number\")\n",
    "\n",
    "transform.fit_transform(df)"
   ]
  },
  {
   "cell_type": "code",
   "execution_count": null,
   "metadata": {},
   "outputs": [],
   "source": [
    "# The combinaiton of column filters is a column filter object\n",
    "(RegexSelector(patterns=\"day$\") | DTypeSelector(dtypes=\"number\"))"
   ]
  },
  {
   "cell_type": "code",
   "execution_count": null,
   "metadata": {},
   "outputs": [],
   "source": [
    "# There are some smart logical handling behind the scence (using De Morgan's law)\n",
    "# Here we have \"not (A or B)\" which becomes \"not A and not B\" :)\n",
    "~(RegexSelector(patterns=\"day$\") | DTypeSelector(dtypes=\"number\"))"
   ]
  },
  {
   "cell_type": "markdown",
   "metadata": {},
   "source": [
    "## Conclusion and outlook\n",
    "\n",
    "You can do lots of stuff with those column filters! You can select/remove by\n",
    "* dtype:\n",
    "    - ``DTypeSelector``\n",
    "    - ``DTypeRemover``\n",
    "* regex:\n",
    "    - ``RegexSelector``\n",
    "    - ``RegexRemover``\n",
    "* name:\n",
    "    - ``NameSelector``\n",
    "    - ``NameRemover``\n",
    "For completeness, there is also a \"dummy\" filter that selects everything, the \n",
    "``AllSelector``.\n",
    "\n",
    "\n",
    "All those classes inherits from the ``ColumnFilter`` class, which is the base abstract\n",
    "class."
   ]
  }
 ],
 "metadata": {
  "kernelspec": {
   "display_name": ".venv",
   "language": "python",
   "name": "python3"
  },
  "language_info": {
   "codemirror_mode": {
    "name": "ipython",
    "version": 3
   },
   "file_extension": ".py",
   "mimetype": "text/x-python",
   "name": "python",
   "nbconvert_exporter": "python",
   "pygments_lexer": "ipython3",
   "version": "3.10.14"
  }
 },
 "nbformat": 4,
 "nbformat_minor": 2
}
