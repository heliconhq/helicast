{
 "cells": [
  {
   "cell_type": "code",
   "execution_count": null,
   "metadata": {},
   "outputs": [],
   "source": [
    "import pandas as pd\n",
    "import numpy as np\n",
    "\n",
    "from helicast.utils import auto_convert_to_datetime_index"
   ]
  },
  {
   "cell_type": "code",
   "execution_count": null,
   "metadata": {},
   "outputs": [],
   "source": [
    "def generate_date_range(\n",
    "    start_date=\"2020-04-01 00:00:00\",\n",
    "    end_date=\"2020-04-07 23:00:00\",\n",
    "    freq=\"h\",\n",
    "    format=None,\n",
    ") -> pd.DatetimeIndex:\n",
    "    dates = pd.date_range(start=start_date, end=end_date, freq=freq)\n",
    "    dates = dates.to_series().reset_index(drop=True)\n",
    "    if format:\n",
    "        dates = dates.dt.strftime(format)\n",
    "    return dates"
   ]
  },
  {
   "cell_type": "code",
   "execution_count": null,
   "metadata": {},
   "outputs": [],
   "source": [
    "df = pd.DataFrame()\n",
    "df[\"date\"] = generate_date_range(format=\"%d/%m/%Y %H:%M:%S\", freq=\"1d\").values.tolist()\n",
    "df[\"date\"] = df[\"date\"].apply(lambda x: x[1:])\n",
    "df[\"date\"] = df[\"date\"].apply(lambda x: x.replace(\"/0\", \"/\"))\n",
    "# This is a DF with a date column as string\n",
    "print(\"Date column type BEFORE:\", df[\"date\"].dtype)\n",
    "display(df)\n",
    "\n",
    "# Auto convert to a proper datetime type!\n",
    "df[\"date\"] = auto_convert_to_datetime_index(df[\"date\"].to_list())\n",
    "print(\"Date column type AFTER:\", df[\"date\"].dtype)\n",
    "df"
   ]
  },
  {
   "cell_type": "code",
   "execution_count": null,
   "metadata": {},
   "outputs": [],
   "source": [
    "# TESTING\n",
    "from helicast.utils._date_utils import DATE_FORMATS, DATETIME_FORMATS\n",
    "\n",
    "for format in DATETIME_FORMATS + DATE_FORMATS:\n",
    "    dates = generate_date_range(format=None)\n",
    "    if format in DATE_FORMATS:\n",
    "        dates = dates.dt.ceil(\"D\")\n",
    "    checks = (\n",
    "        auto_convert_to_datetime_index(dates.dt.strftime(format)).values == dates.values\n",
    "    )\n",
    "    print(format, np.all(checks))"
   ]
  }
 ],
 "metadata": {
  "kernelspec": {
   "display_name": ".venv",
   "language": "python",
   "name": "python3"
  },
  "language_info": {
   "codemirror_mode": {
    "name": "ipython",
    "version": 3
   },
   "file_extension": ".py",
   "mimetype": "text/x-python",
   "name": "python",
   "nbconvert_exporter": "python",
   "pygments_lexer": "ipython3",
   "version": "3.10.14"
  }
 },
 "nbformat": 4,
 "nbformat_minor": 2
}
