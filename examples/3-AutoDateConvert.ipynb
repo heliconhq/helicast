{
 "cells": [
  {
   "cell_type": "code",
   "execution_count": 1,
   "metadata": {},
   "outputs": [],
   "source": [
    "import pandas as pd\n",
    "import numpy as np\n",
    "\n",
    "from helicast.utils import auto_convert_to_datetime_index"
   ]
  },
  {
   "cell_type": "code",
   "execution_count": 2,
   "metadata": {},
   "outputs": [],
   "source": [
    "def generate_date_range(\n",
    "    start_date=\"2020-04-01 00:00:00\",\n",
    "    end_date=\"2020-04-07 23:00:00\",\n",
    "    freq=\"h\",\n",
    "    format=None,\n",
    ") -> pd.DatetimeIndex:\n",
    "    dates = pd.date_range(start=start_date, end=end_date, freq=freq)\n",
    "    dates = dates.to_series().reset_index(drop=True)\n",
    "    if format:\n",
    "        dates = dates.dt.strftime(format)\n",
    "    return dates"
   ]
  },
  {
   "cell_type": "code",
   "execution_count": 3,
   "metadata": {},
   "outputs": [
    {
     "name": "stdout",
     "output_type": "stream",
     "text": [
      "Date column type BEFORE: object\n"
     ]
    },
    {
     "data": {
      "text/html": [
       "<div>\n",
       "<style scoped>\n",
       "    .dataframe tbody tr th:only-of-type {\n",
       "        vertical-align: middle;\n",
       "    }\n",
       "\n",
       "    .dataframe tbody tr th {\n",
       "        vertical-align: top;\n",
       "    }\n",
       "\n",
       "    .dataframe thead th {\n",
       "        text-align: right;\n",
       "    }\n",
       "</style>\n",
       "<table border=\"1\" class=\"dataframe\">\n",
       "  <thead>\n",
       "    <tr style=\"text-align: right;\">\n",
       "      <th></th>\n",
       "      <th>date</th>\n",
       "    </tr>\n",
       "  </thead>\n",
       "  <tbody>\n",
       "    <tr>\n",
       "      <th>0</th>\n",
       "      <td>1/4/2020 00:00:00</td>\n",
       "    </tr>\n",
       "    <tr>\n",
       "      <th>1</th>\n",
       "      <td>2/4/2020 00:00:00</td>\n",
       "    </tr>\n",
       "    <tr>\n",
       "      <th>2</th>\n",
       "      <td>3/4/2020 00:00:00</td>\n",
       "    </tr>\n",
       "    <tr>\n",
       "      <th>3</th>\n",
       "      <td>4/4/2020 00:00:00</td>\n",
       "    </tr>\n",
       "    <tr>\n",
       "      <th>4</th>\n",
       "      <td>5/4/2020 00:00:00</td>\n",
       "    </tr>\n",
       "    <tr>\n",
       "      <th>5</th>\n",
       "      <td>6/4/2020 00:00:00</td>\n",
       "    </tr>\n",
       "    <tr>\n",
       "      <th>6</th>\n",
       "      <td>7/4/2020 00:00:00</td>\n",
       "    </tr>\n",
       "  </tbody>\n",
       "</table>\n",
       "</div>"
      ],
      "text/plain": [
       "                date\n",
       "0  1/4/2020 00:00:00\n",
       "1  2/4/2020 00:00:00\n",
       "2  3/4/2020 00:00:00\n",
       "3  4/4/2020 00:00:00\n",
       "4  5/4/2020 00:00:00\n",
       "5  6/4/2020 00:00:00\n",
       "6  7/4/2020 00:00:00"
      ]
     },
     "metadata": {},
     "output_type": "display_data"
    },
    {
     "name": "stdout",
     "output_type": "stream",
     "text": [
      "Date column type AFTER: datetime64[ns]\n"
     ]
    },
    {
     "data": {
      "text/html": [
       "<div>\n",
       "<style scoped>\n",
       "    .dataframe tbody tr th:only-of-type {\n",
       "        vertical-align: middle;\n",
       "    }\n",
       "\n",
       "    .dataframe tbody tr th {\n",
       "        vertical-align: top;\n",
       "    }\n",
       "\n",
       "    .dataframe thead th {\n",
       "        text-align: right;\n",
       "    }\n",
       "</style>\n",
       "<table border=\"1\" class=\"dataframe\">\n",
       "  <thead>\n",
       "    <tr style=\"text-align: right;\">\n",
       "      <th></th>\n",
       "      <th>date</th>\n",
       "    </tr>\n",
       "  </thead>\n",
       "  <tbody>\n",
       "    <tr>\n",
       "      <th>0</th>\n",
       "      <td>2020-04-01</td>\n",
       "    </tr>\n",
       "    <tr>\n",
       "      <th>1</th>\n",
       "      <td>2020-04-02</td>\n",
       "    </tr>\n",
       "    <tr>\n",
       "      <th>2</th>\n",
       "      <td>2020-04-03</td>\n",
       "    </tr>\n",
       "    <tr>\n",
       "      <th>3</th>\n",
       "      <td>2020-04-04</td>\n",
       "    </tr>\n",
       "    <tr>\n",
       "      <th>4</th>\n",
       "      <td>2020-04-05</td>\n",
       "    </tr>\n",
       "    <tr>\n",
       "      <th>5</th>\n",
       "      <td>2020-04-06</td>\n",
       "    </tr>\n",
       "    <tr>\n",
       "      <th>6</th>\n",
       "      <td>2020-04-07</td>\n",
       "    </tr>\n",
       "  </tbody>\n",
       "</table>\n",
       "</div>"
      ],
      "text/plain": [
       "        date\n",
       "0 2020-04-01\n",
       "1 2020-04-02\n",
       "2 2020-04-03\n",
       "3 2020-04-04\n",
       "4 2020-04-05\n",
       "5 2020-04-06\n",
       "6 2020-04-07"
      ]
     },
     "execution_count": 3,
     "metadata": {},
     "output_type": "execute_result"
    }
   ],
   "source": [
    "df = pd.DataFrame()\n",
    "df[\"date\"] = generate_date_range(format=\"%d/%m/%Y %H:%M:%S\", freq=\"1d\").values.tolist()\n",
    "df[\"date\"] = df[\"date\"].apply(lambda x: x[1:])\n",
    "df[\"date\"] = df[\"date\"].apply(lambda x: x.replace(\"/0\", \"/\"))\n",
    "# This is a DF with a date column as string\n",
    "print(\"Date column type BEFORE:\", df[\"date\"].dtype)\n",
    "display(df)\n",
    "\n",
    "# Auto convert to a proper datetime type!\n",
    "df[\"date\"] = auto_convert_to_datetime_index(df[\"date\"].to_list())\n",
    "print(\"Date column type AFTER:\", df[\"date\"].dtype)\n",
    "df"
   ]
  },
  {
   "cell_type": "code",
   "execution_count": 4,
   "metadata": {},
   "outputs": [
    {
     "name": "stdout",
     "output_type": "stream",
     "text": [
      "%Y/%m/%d %H:%M:%S True\n",
      "%Y/%d/%m %H:%M:%S True\n",
      "%m/%d/%Y %H:%M:%S True\n",
      "%d/%m/%Y %H:%M:%S True\n",
      "%Y-%m-%d %H:%M:%S True\n",
      "%Y-%d-%m %H:%M:%S True\n",
      "%m-%d-%Y %H:%M:%S True\n",
      "%d-%m-%Y %H:%M:%S True\n",
      "%y/%m/%d %H:%M:%S True\n",
      "%y/%d/%m %H:%M:%S True\n",
      "%m/%d/%y %H:%M:%S True\n",
      "%d/%m/%y %H:%M:%S True\n",
      "%y-%m-%d %H:%M:%S True\n",
      "%y-%d-%m %H:%M:%S True\n",
      "%m-%d-%y %H:%M:%S True\n",
      "%d-%m-%y %H:%M:%S True\n",
      "%Y/%m/%d True\n",
      "%Y/%d/%m True\n",
      "%m/%d/%Y True\n",
      "%d/%m/%Y True\n",
      "%Y-%m-%d True\n",
      "%Y-%d-%m True\n",
      "%m-%d-%Y True\n",
      "%d-%m-%Y True\n",
      "%y/%m/%d True\n",
      "%y/%d/%m True\n",
      "%m/%d/%y True\n",
      "%d/%m/%y True\n",
      "%y-%m-%d True\n",
      "%y-%d-%m True\n",
      "%m-%d-%y True\n",
      "%d-%m-%y True\n"
     ]
    }
   ],
   "source": [
    "# TESTING\n",
    "from helicast.utils._date_utils import DATE_FORMATS, DATETIME_FORMATS\n",
    "\n",
    "for format in DATETIME_FORMATS + DATE_FORMATS:\n",
    "    dates = generate_date_range(format=None)\n",
    "    if format in DATE_FORMATS:\n",
    "        dates = dates.dt.ceil(\"D\")\n",
    "    checks = (\n",
    "        auto_convert_to_datetime_index(dates.dt.strftime(format)).values == dates.values\n",
    "    )\n",
    "    print(format, np.all(checks))"
   ]
  }
 ],
 "metadata": {
  "kernelspec": {
   "display_name": "helicast",
   "language": "python",
   "name": "python3"
  },
  "language_info": {
   "codemirror_mode": {
    "name": "ipython",
    "version": 3
   },
   "file_extension": ".py",
   "mimetype": "text/x-python",
   "name": "python",
   "nbconvert_exporter": "python",
   "pygments_lexer": "ipython3",
   "version": "3.10.13"
  }
 },
 "nbformat": 4,
 "nbformat_minor": 2
}
