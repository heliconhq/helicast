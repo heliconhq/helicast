{
 "cells": [
  {
   "cell_type": "markdown",
   "metadata": {},
   "source": [
    "# 2 - Composition Operators "
   ]
  },
  {
   "cell_type": "code",
   "execution_count": null,
   "metadata": {},
   "outputs": [],
   "source": [
    "import matplotlib.pyplot as plt\n",
    "import pandas as pd\n",
    "from sklearn.linear_model import LinearRegression\n",
    "from sklearn.preprocessing import MinMaxScaler\n",
    "from sklearn.svm import SVR\n",
    "\n",
    "from helicast.column_filters import (\n",
    "    AllSelector,\n",
    "    DTypeRemover,\n",
    "    DTypeSelector,\n",
    "    NameRemover,\n",
    "    NameSelector,\n",
    "    RegexRemover,\n",
    "    RegexSelector,\n",
    ")\n",
    "from helicast.sklearn import (\n",
    "    Pipeline,\n",
    "    TransformedTargetRegressor,\n",
    ")\n",
    "\n",
    "from sklearn.gaussian_process import GaussianProcessRegressor"
   ]
  },
  {
   "cell_type": "code",
   "execution_count": null,
   "metadata": {},
   "outputs": [],
   "source": [
    "def read_data() -> pd.DataFrame:\n",
    "    df = pd.read_csv(\"../data/victoria-daily-electricity.csv\")\n",
    "    df = df.convert_dtypes()\n",
    "    df[\"school_day\"] = df[\"school_day\"].astype(\"category\")\n",
    "    df = df.ffill()\n",
    "    return df\n",
    "\n",
    "\n",
    "df = read_data()\n",
    "display(df.dtypes)\n",
    "df"
   ]
  },
  {
   "cell_type": "code",
   "execution_count": null,
   "metadata": {},
   "outputs": [],
   "source": [
    "from sklearn.ensemble import AdaBoostRegressor\n",
    "\n",
    "model = Pipeline(\n",
    "    [\n",
    "        (\"scaler\", MinMaxScaler()),\n",
    "        (\"reg\", AdaBoostRegressor(GaussianProcessRegressor(), n_estimators=5)),\n",
    "    ]\n",
    ")\n",
    "\n",
    "X = (RegexRemover(patterns=\"demand\") & DTypeSelector(dtypes=\"number\")).fit_transform(df)\n",
    "y = NameSelector(names=\"demand\").fit_transform(df)\n",
    "model.fit(X, y)\n",
    "\n",
    "# print(model[-1].coef_)\n",
    "\n",
    "\n",
    "plt.figure(figsize=(15, 5))\n",
    "plt.plot(y[-200:])\n",
    "plt.plot(model.predict(X)[-200:], \"--\", label=\"prediction\")\n",
    "plt.legend()"
   ]
  },
  {
   "cell_type": "code",
   "execution_count": null,
   "metadata": {},
   "outputs": [],
   "source": [
    "from sklearn.pipeline import Pipeline\n",
    "\n",
    "model = TransformedTargetRegressor(\n",
    "    regressor=Pipeline(\n",
    "        [\n",
    "            (\"scaler\", MinMaxScaler()),\n",
    "            (\"reg\", GaussianProcessRegressor()),\n",
    "        ]\n",
    "    ),\n",
    "    transformer=MinMaxScaler(),\n",
    ")\n",
    "\n",
    "\n",
    "X = (RegexRemover(patterns=\"demand\") & DTypeSelector(dtypes=\"number\")).fit_transform(df)\n",
    "y = NameSelector(names=\"demand\").fit_transform(df)\n",
    "model.fit(X, y)\n",
    "\n",
    "print(model.score(X, y))\n",
    "\n",
    "\n",
    "plt.figure(figsize=(15, 5))\n",
    "plt.plot(y[-200:])\n",
    "plt.plot(model.predict(X)[-200:], \"--\", label=\"prediction\")\n",
    "plt.legend()"
   ]
  }
 ],
 "metadata": {
  "kernelspec": {
   "display_name": "helicast",
   "language": "python",
   "name": "python3"
  },
  "language_info": {
   "codemirror_mode": {
    "name": "ipython",
    "version": 3
   },
   "file_extension": ".py",
   "mimetype": "text/x-python",
   "name": "python",
   "nbconvert_exporter": "python",
   "pygments_lexer": "ipython3",
   "version": "3.10.14"
  }
 },
 "nbformat": 4,
 "nbformat_minor": 2
}
